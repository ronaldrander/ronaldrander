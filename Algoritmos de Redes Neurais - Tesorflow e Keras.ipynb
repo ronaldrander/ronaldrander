{
 "cells": [
  {
   "cell_type": "code",
   "execution_count": 4,
   "metadata": {},
   "outputs": [],
   "source": [
    "# Importando bibliotecas \n",
    "\n",
    "import numpy as np\n",
    "import matplotlib.pyplot as plt\n",
    "import tensorflow as tf\n",
    "from tensorflow import keras\n",
    "from tensorflow.keras import layers\n",
    "from sklearn import datasets\n",
    "from sklearn.model_selection import train_test_split"
   ]
  },
  {
   "cell_type": "markdown",
   "metadata": {},
   "source": [
    "## **Modelo de classificação de tipos de iris(planta)**"
   ]
  },
  {
   "cell_type": "code",
   "execution_count": 46,
   "metadata": {
    "colab": {
     "base_uri": "https://localhost:8080/"
    },
    "id": "JN5xQzblg0JQ",
    "outputId": "059a74ea-cf8f-4958-8a5f-0c6f8fb19e6a"
   },
   "outputs": [
    {
     "name": "stdout",
     "output_type": "stream",
     "text": [
      "Model: \"sequential_43\"\n",
      "_________________________________________________________________\n",
      "Layer (type)                 Output Shape              Param #   \n",
      "=================================================================\n",
      "dense_43 (Dense)             (None, 1)                 5         \n",
      "=================================================================\n",
      "Total params: 5\n",
      "Trainable params: 5\n",
      "Non-trainable params: 0\n",
      "_________________________________________________________________\n",
      "None\n",
      "1/1 [==============================] - 0s 30ms/step - loss: 1.6468 - binary_accuracy: 0.6667\n",
      "\n",
      "\n",
      "Checking the results on test set:\n",
      "The model output is 1.0 when it should be 1.\n",
      "The model output is 1.0 when it should be 0.\n",
      "The model output is 1.0 when it should be 1.\n",
      "The model output is 1.0 when it should be 1.\n",
      "The model output is 1.0 when it should be 1.\n",
      "The model output is 1.0 when it should be 0.\n",
      "The model output is 1.0 when it should be 1.\n",
      "The model output is 1.0 when it should be 1.\n",
      "The model output is 1.0 when it should be 1.\n",
      "The model output is 1.0 when it should be 1.\n",
      "The model output is 1.0 when it should be 1.\n",
      "The model output is 1.0 when it should be 0.\n",
      "The model output is 1.0 when it should be 0.\n",
      "The model output is 1.0 when it should be 0.\n",
      "The model output is 1.0 when it should be 0.\n",
      "The model output is 1.0 when it should be 1.\n",
      "The model output is 1.0 when it should be 1.\n",
      "The model output is 1.0 when it should be 1.\n",
      "The model output is 1.0 when it should be 1.\n",
      "The model output is 1.0 when it should be 1.\n",
      "The model output is 1.0 when it should be 0.\n",
      "The model output is 1.0 when it should be 1.\n",
      "The model output is 1.0 when it should be 0.\n",
      "The model output is 1.0 when it should be 1.\n",
      "The model output is 1.0 when it should be 1.\n",
      "The model output is 1.0 when it should be 1.\n",
      "The model output is 1.0 when it should be 1.\n",
      "The model output is 1.0 when it should be 1.\n",
      "The model output is 1.0 when it should be 0.\n",
      "The model output is 1.0 when it should be 0.\n",
      "\n",
      "Checking the results (a quick resume)\n",
      "loss: 1.647\n",
      "binary_accuracy: 0.667\n"
     ]
    }
   ],
   "source": [
    "# Importando os Dados\n",
    "iris = datasets.load_iris()\n",
    "X = iris.data\n",
    "y = (iris.target != 0).astype(int) # Quebrando classificação em Setosas ou Versicolor & Virginica\n",
    "\n",
    "\n",
    "# Separando os dados em teste, validação e treino\n",
    "X_train, X_test, y_train, y_test = train_test_split(\n",
    "    X, y, test_size=0.20, random_state = 42)\n",
    "\n",
    "X_train, X_val, y_train, y_val = train_test_split(\n",
    "     X_train, y_train, test_size=0.25, random_state = 42)\n",
    "\n",
    "\n",
    "# Criando rede neural utilizada para teste\n",
    "model = keras.Sequential([\n",
    "  layers.Dense(units=1, input_shape=[4], activation='sigmoid'),\n",
    "])\n",
    "\n",
    "# Configurando e compilando a rede neural\n",
    "model.compile(\n",
    "    optimizer='adam',\n",
    "    loss='binary_crossentropy',\n",
    "    metrics=['binary_accuracy'],\n",
    "  )\n",
    "\n",
    "# Painel de informações do modelo\n",
    "print(model.summary())\n",
    "\n",
    "# Realizando treinamento e validação do modelo.\n",
    "history = model.fit(X_train, y_train, \n",
    "                  validation_data=(X_val, y_val),\n",
    "                  epochs=3, \n",
    "                  verbose=False)\n",
    "\n",
    "# Avaliando o modelo com os dados de teste\n",
    "results = model.evaluate(X_test, y_test)\n",
    "\n",
    "# Plotando a predição para cada amostra de trieno\n",
    "print('\\n\\nChecking the results on test set:')\n",
    "for x, y in zip(X_test, y_test):\n",
    "  \n",
    "  o = model.predict(np.reshape(x, (1, -1)))\n",
    "  \n",
    "  o = np.round(o).item()\n",
    "  \n",
    "  print('The model output is {} when it should be {}.'.format(o, y))\n",
    "\n",
    "# Resultado final da eficiência do modelo\n",
    "print('\\nChecking the results (a quick resume)')\n",
    "for name, value in zip(model.metrics_names, results):\n",
    "  print(\"%s: %.3f\" % (name, value))\n",
    "\n"
   ]
  },
  {
   "cell_type": "markdown",
   "metadata": {},
   "source": [
    "## **Modelo de Regressão Genêrica**"
   ]
  },
  {
   "cell_type": "code",
   "execution_count": null,
   "metadata": {},
   "outputs": [],
   "source": []
  },
  {
   "cell_type": "code",
   "execution_count": null,
   "metadata": {},
   "outputs": [],
   "source": []
  },
  {
   "cell_type": "code",
   "execution_count": null,
   "metadata": {},
   "outputs": [],
   "source": []
  },
  {
   "cell_type": "code",
   "execution_count": null,
   "metadata": {},
   "outputs": [],
   "source": []
  }
 ],
 "metadata": {
  "colab": {
   "collapsed_sections": [],
   "name": "Huawei - LAb01 - Perceptron TF",
   "provenance": []
  },
  "kernelspec": {
   "display_name": "Python 3",
   "language": "python",
   "name": "python3"
  },
  "language_info": {
   "codemirror_mode": {
    "name": "ipython",
    "version": 3
   },
   "file_extension": ".py",
   "mimetype": "text/x-python",
   "name": "python",
   "nbconvert_exporter": "python",
   "pygments_lexer": "ipython3",
   "version": "3.8.3"
  }
 },
 "nbformat": 4,
 "nbformat_minor": 1
}
