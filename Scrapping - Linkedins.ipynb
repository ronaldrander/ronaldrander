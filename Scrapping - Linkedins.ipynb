{
 "cells": [
  {
   "cell_type": "code",
   "execution_count": null,
   "metadata": {},
   "outputs": [],
   "source": [
    "import requests\n",
    "from bs4 import BeautifulSoup\n",
    "import sqlite3\n",
    "import pandas as pd\n",
    "import numpy as np\n",
    "from selenium import webdriver\n",
    "from selenium.webdriver.common.keys import Keys\n",
    "from time import sleep"
   ]
  },
  {
   "cell_type": "code",
   "execution_count": null,
   "metadata": {},
   "outputs": [],
   "source": [
    "# Criando o banco de dados\n",
    "conn = sqlite3.connect('linkedins2.db')"
   ]
  },
  {
   "cell_type": "code",
   "execution_count": null,
   "metadata": {},
   "outputs": [],
   "source": [
    "# Criando cursor para execução de comandos\n",
    "cur = conn.cursor()"
   ]
  },
  {
   "cell_type": "code",
   "execution_count": null,
   "metadata": {},
   "outputs": [],
   "source": [
    "cur.execute('CREATE TABLE IF NOT EXISTS contatos(linkedin TEXT, nomes TEXT, localizações TEXT, conexões TEXT, descrições TEXT, sobres TEXT)')\n",
    "conn.commit()"
   ]
  },
  {
   "cell_type": "code",
   "execution_count": null,
   "metadata": {},
   "outputs": [],
   "source": [
    "driver = webdriver.Firefox()\n",
    "\n",
    "driver.get('https://www.linkedin.com/search/results/people/?geoUrn=%5B%22106057199%22%5D&keywords=startup%20angel%20investor&origin=FACETED_SEARCH')\n",
    "sleep(3)\n",
    "\n",
    "login = 'rogerio.santosfilho@gmail.com'\n",
    "senha = 'rogerio1985'\n",
    "\n",
    "next_login = driver.find_element_by_class_name('main__sign-in-link')\n",
    "next_login.click()\n",
    "sleep(3)\n",
    "\n",
    "search_field = driver.find_element_by_id('username')\n",
    "search_field.send_keys(login)\n",
    "sleep(2)\n",
    "\n",
    "search_field = driver.find_element_by_id('password')\n",
    "search_field.send_keys(senha)\n",
    "sleep(2)\n",
    "\n",
    "login_button = driver.find_element_by_class_name('login__form_action_container')\n",
    "login_button.click() \n",
    "sleep(5)\n",
    "\n",
    "\n",
    "soup = BeautifulSoup(driver.page_source, 'html.parser')\n",
    "\n",
    "loc_all_urls = soup.find(class_='reusable-search__entity-results-list list-style-none')\n",
    "loc_all_urls2 = loc_all_urls.find(class_='reusable-search__result-container')\n",
    "linkedin_url = loc_all_urls2.find(class_='entity-result__title-text t-16')\n",
    "cur.execute('INSERT INTO contatos(linkedin) VALUES(?)', (linkedin_url.find('a').get('href'),))\n",
    "conn.commit()\n",
    "\n",
    "for i in range(9):\n",
    "    loc_all_urls2 = loc_all_urls2.find_next(class_='reusable-search__result-container')\n",
    "    linkedin_url = loc_all_urls2.find(class_='entity-result__title-text t-16')\n",
    "    url = linkedin_url.find('a').get('href')\n",
    "    driver.get(url)\n",
    "    sleep(3)\n",
    "    \n",
    "    page = driver.page_source\n",
    "    soup = BeautifulSoup(page, 'html.parser')\n",
    "    \n",
    "    nome = soup.find(class_='inline t-24 t-black t-normal break-words').get_text().strip()\n",
    "    descrição = soup.find(class_='mt1 t-18 t-black t-normal break-words').get_text().strip()\n",
    "    conexão = soup.find(class_='t-16 t-black t-normal').get_text().strip()\n",
    "    localização = soup.find(class_='t-16 t-black t-normal inline-block').get_text().strip()\n",
    "    \n",
    "    try:\n",
    "        sobre = soup.find(class_='pv-about__summary-text mt4 t-14 ember-view').get_text().strip()\n",
    "        cur.execute('INSERT INTO contatos(linkedin, nomes, localizações, conexões, descrições, sobres) VALUES(?, ?, ?, ?, ?, ?)', (url, nome, localização,conexão, descrição, sobre))\n",
    "        conn.commit()\n",
    "        \n",
    "    except:\n",
    "        cur.execute('INSERT INTO contatos(linkedin, nomes, localizações, conexões, descrições, sobres) VALUES(?, ?, ?, ?, ?, ?)', (url, nome, localização,conexão, descrição, 'None'))\n",
    "        conn.commit() \n",
    "    \n",
    "\n",
    "\n",
    "start = 2\n",
    "    \n",
    "for i in range(68):\n",
    "    driver.get('https://www.linkedin.com/search/results/people/?geoUrn=%5B%22106057199%22%5D&keywords=startup%20angel%20investor&origin=FACETED_SEARCH&page={}'.format(i+start))\n",
    "    sleep(3)\n",
    "    \n",
    "    soup = BeautifulSoup(driver.page_source, 'html.parser')\n",
    "    loc_all_urls = soup.find(class_='reusable-search__entity-results-list list-style-none')\n",
    "\n",
    "    loc_all_urls2 = loc_all_urls.find(class_='reusable-search__result-container')\n",
    "    linkedin_url = loc_all_urls2.find(class_='entity-result__title-text t-16')\n",
    "    url = linkedin_url.find('a').get('href')\n",
    "    driver.get(url)\n",
    "    sleep(3)\n",
    "    \n",
    "    page = driver.page_source\n",
    "    soup = BeautifulSoup(page, 'html.parser')\n",
    "    \n",
    "    nome = soup.find(class_='inline t-24 t-black t-normal break-words').get_text().strip()\n",
    "    descrição = soup.find(class_='mt1 t-18 t-black t-normal break-words').get_text().strip()\n",
    "    conexão = soup.find(class_='t-16 t-black t-normal').get_text().strip()\n",
    "    localização = soup.find(class_='t-16 t-black t-normal inline-block').get_text().strip()\n",
    "    \n",
    "    try:\n",
    "        sobre = soup.find(class_='pv-about__summary-text mt4 t-14 ember-view').get_text().strip()\n",
    "        cur.execute('INSERT INTO contatos(linkedin, nomes, localizações, conexões, descrições, sobres) VALUES(?, ?, ?, ?, ?, ?)', (url, nome, localização,conexão, descrição, sobre))\n",
    "        conn.commit()\n",
    "        \n",
    "    except:\n",
    "        cur.execute('INSERT INTO contatos(linkedin, nomes, localizações, conexões, descrições, sobres) VALUES(?, ?, ?, ?, ?, ?)', (url, nome, localização,conexão, descrição, 'None'))\n",
    "        conn.commit() \n",
    "   \n",
    "\n",
    "sleep(5)"
   ]
  },
  {
   "cell_type": "code",
   "execution_count": null,
   "metadata": {},
   "outputs": [],
   "source": [
    "\n"
   ]
  },
  {
   "cell_type": "code",
   "execution_count": null,
   "metadata": {},
   "outputs": [],
   "source": []
  }
 ],
 "metadata": {
  "kernelspec": {
   "display_name": "Python 3",
   "language": "python",
   "name": "python3"
  },
  "language_info": {
   "codemirror_mode": {
    "name": "ipython",
    "version": 3
   },
   "file_extension": ".py",
   "mimetype": "text/x-python",
   "name": "python",
   "nbconvert_exporter": "python",
   "pygments_lexer": "ipython3",
   "version": "3.8.3"
  }
 },
 "nbformat": 4,
 "nbformat_minor": 4
}
